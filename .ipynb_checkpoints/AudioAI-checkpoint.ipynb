{
 "cells": [
  {
   "cell_type": "markdown",
   "id": "cf9d83ed-0f67-4890-b90e-b39a5bc7a66b",
   "metadata": {},
   "source": [
    "# Convert Audio TO Text"
   ]
  },
  {
   "cell_type": "code",
   "execution_count": 27,
   "id": "c0b65ccb-3362-4d9b-a99a-a86cf6420b5f",
   "metadata": {},
   "outputs": [
    {
     "name": "stdout",
     "output_type": "stream",
     "text": [
      "Please Select Language for Translate : \n",
      "1. English\n",
      "2. Hindi\n",
      "3. Kannada\n"
     ]
    },
    {
     "name": "stdin",
     "output_type": "stream",
     "text": [
      " 1\n"
     ]
    },
    {
     "name": "stdout",
     "output_type": "stream",
     "text": [
      "Fetching File\n",
      "Converting audio transcripts into text ...\n",
      "the still smell of old buildings it takes heat to bring out the order a cold exhaust a sole please find with him tacos Alpha store are my favourite is just for food is the hard cross bun\n"
     ]
    }
   ],
   "source": [
    "import speech_recognition as sr\n",
    "r = sr.Recognizer()\n",
    "def getLanguage(argument):\n",
    "    switcher = {\n",
    "        1: \"en-IN\",\n",
    "        2: \"hi-IN\",\n",
    "        3: \"kn-IN\"\n",
    "    }\n",
    "    return switcher.get(argument, 0)\n",
    "def getSelection():\n",
    "    while True:\n",
    "        try:\n",
    "            userInput = int(input())\n",
    "            if (userInput<1 or userInput>3):\n",
    "                print(\"Not an integer! Try again.\")\n",
    "                continue\n",
    "        except ValueError:\n",
    "            print(\"Not an integer! Try again.\")\n",
    "            continue\n",
    "        else:\n",
    "            return userInput\n",
    "            break\n",
    "# Reading Audio file as source\n",
    "# listening the audio file and store in audio_text variable\n",
    "def startConvertion(path = 'sample.wav',lang = 'en-IN'):\n",
    "    with sr.AudioFile(path) as source:\n",
    "        print('Fetching File')\n",
    "        audio_text = r.listen(source)\n",
    "        # recoginize_() method will throw a request error if the API is unreachable, hence using exception handling\n",
    "        try:\n",
    "        \n",
    "            # using google speech recognition\n",
    "            print('Converting audio transcripts into text ...')\n",
    "            text = r.recognize_google(audio_text, language = lang)\n",
    "            print(text)\n",
    "    \n",
    "        except:\n",
    "            print('Sorry.. run again...')\n",
    "if __name__ == '__main__':\n",
    "    print('Please Select Language for Translate : ')\n",
    "    print('1. English')\n",
    "    print('2. Hindi')\n",
    "    print('3. Kannada')\n",
    "\n",
    "    languageSelection = getLanguage(getSelection())\n",
    "\n",
    "    # calling startConvertion method to start process\n",
    "    startConvertion(\"harvard.wav\",languageSelection) "
   ]
  },
  {
   "cell_type": "markdown",
   "id": "b3b437c5-da2d-4c4f-bd50-83c20b6c87e1",
   "metadata": {},
   "source": [
    "# Clear Noise From Audio"
   ]
  },
  {
   "cell_type": "code",
   "execution_count": 18,
   "id": "ec9411eb-d53e-4b4f-9f5d-2b7326c63ae9",
   "metadata": {},
   "outputs": [
    {
     "data": {
      "text/plain": [
       "<_io.BufferedRandom name='new.wav'>"
      ]
     },
     "execution_count": 18,
     "metadata": {},
     "output_type": "execute_result"
    }
   ],
   "source": [
    "import noisereduce as nr\n",
    "import numpy as np\n",
    "from pydub import AudioSegment\n",
    "from pydub.silence import split_on_silence\n",
    "\n",
    "# Load the audio file\n",
    "audio = AudioSegment.from_wav(\"new.wav\")\n",
    "\n",
    "# Export audio to numpy array\n",
    "audio_samples = np.array(audio.get_array_of_samples())\n",
    "\n",
    "# Perform noise reduction\n",
    "# reduced_noise_samples = nr.reduce_noise(y=audio_samples, sr=audio.frame_rate)\n",
    "\n",
    "# Convert back to AudioSegment\n",
    "# reduced_noise_audio = AudioSegment(\n",
    "#     reduced_noise_samples.tobytes(),\n",
    "#     frame_rate=audio.frame_rate,\n",
    "#     sample_width=audio.sample_width,\n",
    "#     channels=audio.channels\n",
    "# )\n",
    "\n",
    "# Export the cleaned audio\n",
    "# cleaned_audio_path = \"kiran2.wav\"\n",
    "# reduced_noise_audio.export(cleaned_audio_path, format=\"wav\")\n",
    "\n",
    "\n",
    "\n",
    "\n",
    "\n",
    "# Split audio on silence\n",
    "chunks = split_on_silence(\n",
    "    audio,\n",
    "    min_silence_len=500,  # minimum length of silence (in ms) that will be used to split\n",
    "    silence_thresh=-40,   # silence threshold (in dBFS)\n",
    "    keep_silence=500      # amount of silence to keep at the beginning and end of each chunk\n",
    ")\n",
    "\n",
    "# Join all chunks back together to form the audio with only speech\n",
    "combined = AudioSegment.empty()\n",
    "for chunk in chunks:\n",
    "    combined += chunk\n",
    "\n",
    "# Export the combined audio\n",
    "combined_audio_path = \"new.wav\"\n",
    "combined.export(combined_audio_path, format=\"wav\")\n"
   ]
  },
  {
   "cell_type": "markdown",
   "id": "e5236e63-9f45-4f32-90fa-36bd55db75a3",
   "metadata": {},
   "source": [
    "# Increase Audio Voice"
   ]
  },
  {
   "cell_type": "code",
   "execution_count": 17,
   "id": "c4cdd4b1-5a92-4974-9847-b2638a102e66",
   "metadata": {},
   "outputs": [
    {
     "data": {
      "text/plain": [
       "<_io.BufferedRandom name='new.wav'>"
      ]
     },
     "execution_count": 17,
     "metadata": {},
     "output_type": "execute_result"
    }
   ],
   "source": [
    "from pydub import AudioSegment\n",
    "from pydub.silence import split_on_silence\n",
    "\n",
    "# Load the audio file\n",
    "audio = AudioSegment.from_wav(\"http___10.104.69.211_8443_call-recording_decrypted_290609_3d2ef11f1f1bd496c2ed299d15d9a5ba.wav\")\n",
    "\n",
    "# Reduce noise (simple example, you might need more advanced techniques)\n",
    "audio = audio.low_pass_filter(300000)\n",
    "\n",
    "# Export the cleaned audio\n",
    "audio.export(\"new.wav\", format=\"wav\")"
   ]
  },
  {
   "cell_type": "code",
   "execution_count": 11,
   "id": "b21d7fcd-3691-4e63-a6d8-8e1056ce2c36",
   "metadata": {},
   "outputs": [
    {
     "name": "stdout",
     "output_type": "stream",
     "text": [
      "Requirement already satisfied: pydub in c:\\users\\adity\\appdata\\local\\programs\\python\\python38\\lib\\site-packages (0.25.1)\n",
      "Requirement already satisfied: librosa in c:\\users\\adity\\appdata\\local\\programs\\python\\python38\\lib\\site-packages (0.10.2.post1)\n",
      "Requirement already satisfied: numpy in c:\\users\\adity\\appdata\\local\\programs\\python\\python38\\lib\\site-packages (1.24.4)\n",
      "Requirement already satisfied: soxr>=0.3.2 in c:\\users\\adity\\appdata\\local\\programs\\python\\python38\\lib\\site-packages (from librosa) (0.3.7)\n",
      "Requirement already satisfied: decorator>=4.3.0 in c:\\users\\adity\\appdata\\local\\programs\\python\\python38\\lib\\site-packages (from librosa) (5.1.1)\n",
      "Requirement already satisfied: typing-extensions>=4.1.1 in c:\\users\\adity\\appdata\\local\\programs\\python\\python38\\lib\\site-packages (from librosa) (4.11.0)\n",
      "Requirement already satisfied: numba>=0.51.0 in c:\\users\\adity\\appdata\\local\\programs\\python\\python38\\lib\\site-packages (from librosa) (0.58.1)\n",
      "Requirement already satisfied: audioread>=2.1.9 in c:\\users\\adity\\appdata\\local\\programs\\python\\python38\\lib\\site-packages (from librosa) (3.0.1)\n",
      "Requirement already satisfied: pooch>=1.1 in c:\\users\\adity\\appdata\\local\\programs\\python\\python38\\lib\\site-packages (from librosa) (1.8.1)\n",
      "Requirement already satisfied: scikit-learn>=0.20.0 in c:\\users\\adity\\appdata\\local\\programs\\python\\python38\\lib\\site-packages (from librosa) (1.3.2)\n",
      "Requirement already satisfied: scipy>=1.2.0 in c:\\users\\adity\\appdata\\local\\programs\\python\\python38\\lib\\site-packages (from librosa) (1.10.1)\n",
      "Requirement already satisfied: soundfile>=0.12.1 in c:\\users\\adity\\appdata\\local\\programs\\python\\python38\\lib\\site-packages (from librosa) (0.12.1)\n",
      "Requirement already satisfied: joblib>=0.14 in c:\\users\\adity\\appdata\\local\\programs\\python\\python38\\lib\\site-packages (from librosa) (1.4.2)\n",
      "Requirement already satisfied: msgpack>=1.0 in c:\\users\\adity\\appdata\\local\\programs\\python\\python38\\lib\\site-packages (from librosa) (1.0.8)\n",
      "Requirement already satisfied: lazy-loader>=0.1 in c:\\users\\adity\\appdata\\local\\programs\\python\\python38\\lib\\site-packages (from librosa) (0.4)\n",
      "Requirement already satisfied: packaging in c:\\users\\adity\\appdata\\local\\programs\\python\\python38\\lib\\site-packages (from lazy-loader>=0.1->librosa) (24.0)\n",
      "Requirement already satisfied: importlib-metadata in c:\\users\\adity\\appdata\\local\\programs\\python\\python38\\lib\\site-packages (from numba>=0.51.0->librosa) (7.1.0)\n",
      "Requirement already satisfied: llvmlite<0.42,>=0.41.0dev0 in c:\\users\\adity\\appdata\\local\\programs\\python\\python38\\lib\\site-packages (from numba>=0.51.0->librosa) (0.41.1)\n",
      "Requirement already satisfied: platformdirs>=2.5.0 in c:\\users\\adity\\appdata\\local\\programs\\python\\python38\\lib\\site-packages (from pooch>=1.1->librosa) (4.2.1)\n",
      "Requirement already satisfied: requests>=2.19.0 in c:\\users\\adity\\appdata\\local\\programs\\python\\python38\\lib\\site-packages (from pooch>=1.1->librosa) (2.31.0)\n",
      "Requirement already satisfied: charset-normalizer<4,>=2 in c:\\users\\adity\\appdata\\local\\programs\\python\\python38\\lib\\site-packages (from requests>=2.19.0->pooch>=1.1->librosa) (3.3.2)\n",
      "Requirement already satisfied: urllib3<3,>=1.21.1 in c:\\users\\adity\\appdata\\local\\programs\\python\\python38\\lib\\site-packages (from requests>=2.19.0->pooch>=1.1->librosa) (2.2.1)\n",
      "Requirement already satisfied: certifi>=2017.4.17 in c:\\users\\adity\\appdata\\local\\programs\\python\\python38\\lib\\site-packages (from requests>=2.19.0->pooch>=1.1->librosa) (2024.2.2)\n",
      "Requirement already satisfied: idna<4,>=2.5 in c:\\users\\adity\\appdata\\local\\programs\\python\\python38\\lib\\site-packages (from requests>=2.19.0->pooch>=1.1->librosa) (3.7)\n",
      "Requirement already satisfied: threadpoolctl>=2.0.0 in c:\\users\\adity\\appdata\\local\\programs\\python\\python38\\lib\\site-packages (from scikit-learn>=0.20.0->librosa) (3.5.0)\n",
      "Requirement already satisfied: cffi>=1.0 in c:\\users\\adity\\appdata\\local\\programs\\python\\python38\\lib\\site-packages (from soundfile>=0.12.1->librosa) (1.16.0)\n",
      "Requirement already satisfied: pycparser in c:\\users\\adity\\appdata\\local\\programs\\python\\python38\\lib\\site-packages (from cffi>=1.0->soundfile>=0.12.1->librosa) (2.22)\n",
      "Requirement already satisfied: zipp>=0.5 in c:\\users\\adity\\appdata\\local\\programs\\python\\python38\\lib\\site-packages (from importlib-metadata->numba>=0.51.0->librosa) (3.18.1)\n",
      "Note: you may need to restart the kernel to use updated packages.\n"
     ]
    },
    {
     "name": "stderr",
     "output_type": "stream",
     "text": [
      "WARNING: You are using pip version 21.1.1; however, version 24.1.1 is available.\n",
      "You should consider upgrading via the 'c:\\users\\adity\\appdata\\local\\programs\\python\\python38\\python.exe -m pip install --upgrade pip' command.\n"
     ]
    }
   ],
   "source": [
    "pip install pydub librosa numpy\n"
   ]
  },
  {
   "cell_type": "code",
   "execution_count": 28,
   "id": "666d4054-35c6-4e6a-9352-612c12ca45d2",
   "metadata": {},
   "outputs": [],
   "source": [
    "import numpy as np\n",
    "import librosa\n",
    "from pydub import AudioSegment\n",
    "\n",
    "def change_pitch(audio, sr, n_steps):\n",
    "    return librosa.effects.pitch_shift(audio, sr=sr, n_steps=n_steps)\n",
    "\n",
    "def male_to_female(audio_file, output_file, pitch_shift_steps=3):\n",
    "    # Load the audio file\n",
    "    y, sr = librosa.load(audio_file, sr=None)\n",
    "    \n",
    "    # Change the pitch\n",
    "    y_shifted = change_pitch(y, sr, pitch_shift_steps)\n",
    "    \n",
    "    # Convert to AudioSegment for exporting 32767\n",
    "    y_shifted = np.int16(y_shifted * 42767)  # Convert to 16-bit PCM\n",
    "    new_audio = AudioSegment(\n",
    "        y_shifted.tobytes(), \n",
    "        frame_rate=sr,\n",
    "        sample_width=2, \n",
    "        channels=1\n",
    "    )\n",
    "    \n",
    "    # Export the audio file\n",
    "    new_audio.export(output_file, format='wav')\n",
    "\n",
    "# Example usage\n",
    "male_to_female(\"harvard.wav\", \"female_voice.wav\")\n"
   ]
  },
  {
   "cell_type": "code",
   "execution_count": 20,
   "id": "aa3f1323-6bf2-4de2-84a8-3f75dbd62968",
   "metadata": {},
   "outputs": [
    {
     "name": "stdout",
     "output_type": "stream",
     "text": [
      "Requirement already satisfied: numpy in c:\\users\\adity\\appdata\\local\\programs\\python\\python38\\lib\\site-packages (1.24.4)\n",
      "Requirement already satisfied: scipy in c:\\users\\adity\\appdata\\local\\programs\\python\\python38\\lib\\site-packages (1.10.1)\n",
      "Collecting pyworld\n",
      "  Downloading pyworld-0.3.4-cp38-cp38-win_amd64.whl (224 kB)\n",
      "Requirement already satisfied: soundfile in c:\\users\\adity\\appdata\\local\\programs\\python\\python38\\lib\\site-packages (0.12.1)\n",
      "Collecting cython>=0.24\n",
      "  Using cached Cython-3.0.10-cp38-cp38-win_amd64.whl (2.8 MB)\n",
      "Requirement already satisfied: cffi>=1.0 in c:\\users\\adity\\appdata\\local\\programs\\python\\python38\\lib\\site-packages (from soundfile) (1.16.0)\n",
      "Requirement already satisfied: pycparser in c:\\users\\adity\\appdata\\local\\programs\\python\\python38\\lib\\site-packages (from cffi>=1.0->soundfile) (2.22)\n",
      "Installing collected packages: cython, pyworld\n",
      "Successfully installed cython-3.0.10 pyworld-0.3.4\n",
      "Note: you may need to restart the kernel to use updated packages.\n"
     ]
    },
    {
     "name": "stderr",
     "output_type": "stream",
     "text": [
      "WARNING: You are using pip version 21.1.1; however, version 24.1.1 is available.\n",
      "You should consider upgrading via the 'c:\\users\\adity\\appdata\\local\\programs\\python\\python38\\python.exe -m pip install --upgrade pip' command.\n"
     ]
    }
   ],
   "source": [
    "pip install numpy scipy pyworld soundfile\n"
   ]
  },
  {
   "cell_type": "code",
   "execution_count": 26,
   "id": "2ed6517e-62b4-4fa1-9bd6-94f1f3650268",
   "metadata": {},
   "outputs": [],
   "source": [
    "import numpy as np\n",
    "import pyworld as pw\n",
    "import soundfile as sf\n",
    "import scipy.signal\n",
    "\n",
    "def male_to_female(audio_file, output_file, pitch_shift=1.0, formant_shift=1.2):\n",
    "    # Load the audio file\n",
    "    audio, sr = sf.read(audio_file)\n",
    "    \n",
    "    # Extract features using WORLD vocoder\n",
    "    _f0, timeaxis = pw.harvest(audio, sr)  # Fundamental frequency (pitch)\n",
    "    sp = pw.cheaptrick(audio, _f0, timeaxis, sr)  # Spectral envelope\n",
    "    ap = pw.d4c(audio, _f0, timeaxis, sr)  # Aperiodicity\n",
    "    \n",
    "    # Pitch shift\n",
    "    f0 = _f0 * pitch_shift\n",
    "    \n",
    "    # Formant shift\n",
    "    num_frames, num_bins = sp.shape\n",
    "    sp_shifted = np.zeros_like(sp)\n",
    "    for i in range(num_frames):\n",
    "        resampled_frame = scipy.signal.resample(sp[i, :], int(num_bins * formant_shift))\n",
    "        if len(resampled_frame) > num_bins:\n",
    "            sp_shifted[i, :] = resampled_frame[:num_bins]\n",
    "        else:\n",
    "            sp_shifted[i, :] = np.pad(resampled_frame, (0, num_bins - len(resampled_frame)), 'constant')\n",
    "    \n",
    "    # Synthesize the audio using the modified features\n",
    "    synthesized = pw.synthesize(f0, sp_shifted, ap, sr)\n",
    "    \n",
    "    # Save the output audio file\n",
    "    sf.write(output_file, synthesized, sr)\n",
    "\n",
    "# Example usage\n",
    "male_to_female(\"new.wav\", \"female_voice.wav\")\n"
   ]
  },
  {
   "cell_type": "code",
   "execution_count": null,
   "id": "a42182f5-1860-440a-ad55-a27b601251b7",
   "metadata": {},
   "outputs": [],
   "source": []
  }
 ],
 "metadata": {
  "kernelspec": {
   "display_name": "Python 3 (ipykernel)",
   "language": "python",
   "name": "python3"
  },
  "language_info": {
   "codemirror_mode": {
    "name": "ipython",
    "version": 3
   },
   "file_extension": ".py",
   "mimetype": "text/x-python",
   "name": "python",
   "nbconvert_exporter": "python",
   "pygments_lexer": "ipython3",
   "version": "3.8.10"
  }
 },
 "nbformat": 4,
 "nbformat_minor": 5
}
